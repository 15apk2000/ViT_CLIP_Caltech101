{
  "cells": [
    {
      "cell_type": "markdown",
      "metadata": {},
      "source": [
        "# TransVision Analysis and Zeroshot CLIP"
      ]
    },
    {
      "cell_type": "code",
      "execution_count": null,
        "# drive.mount('/content/drive/')"
      ]
    },
    {
      "cell_type": "code",
      "execution_count": null,
      "metadata": {},
      "outputs": [],
      "source": [
        "cd './src'"
      ]
    },
    {
      "cell_type": "markdown",
      "metadata": {},
      "source": [
        "Run the main function for training and testing the model, argumnets can be changed in the main function as needed to train from scratch or load a pretrained model and test it."
      ]
    },
    {
      "cell_type": "code",
      "execution_count": null,
      "source": [
        "!python main.py --> output.txt"
      ]
    },
    {
      "cell_type": "code",
      "execution_count": null,
      "metadata": {},
      "outputs": [],
      "source": [
        "!pip uninstall clip"
      ]
    },
    {
      "cell_type": "markdown",
      "metadata": {},
      "source": [
        "#### Load Clip Model"
      ]
    },
    {
      "cell_type": "code",
      "execution_count": null,
      "metadata": {},
      "outputs": [],
      "source": [
        "! pip install ftfy regex tqdm\n",
        "! pip install git+https://github.com/openai/CLIP.git"
      ]
    },
    {
      "cell_type": "markdown",
      "metadata": {},
      "source": [
        "Zero shot testing on the clip model ViT-B/16"
      ]
    },
    {
      "cell_type": "code",
      "execution_count": null,
      "metadata": {},
      "outputs": [],
      "source": [
        "!python clip_ViT_B16_ZeroShot.py >results_CLIP_ViT_16.txt"
      ]
    },
    {
      "cell_type": "markdown",
      "metadata": {},
      "source": [
        "Zero shot testing on the clip model ViT-B/16"
      ]
    },
    {
      "cell_type": "code",
      "execution_count": null,
      "metadata": {},
      "outputs": [],
      "source": [
        "!python clip_ViT_B32_ZeroShot.py >results_CLIP_ViT_32.txt"
      ]
    }
  ],
  "metadata": {
