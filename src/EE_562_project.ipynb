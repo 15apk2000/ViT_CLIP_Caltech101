{
  "cells": [
    {
      "cell_type": "code",
      "execution_count": 7,
      "metadata": {},
      "outputs": [
        {
          "name": "stdout",
          "output_type": "stream",
          "text": [
            "Collecting torchvision==0.11.1\n",
            "  Downloading torchvision-0.11.1-cp39-cp39-macosx_10_9_x86_64.whl (1.2 MB)\n",
            "\u001b[2K     \u001b[90m━━━━━━━━━━━━━━━━━━━━━━━━━━━━━━━━━━━━━━━━\u001b[0m \u001b[32m1.2/1.2 MB\u001b[0m \u001b[31m2.8 MB/s\u001b[0m eta \u001b[36m0:00:00\u001b[0ma \u001b[36m0:00:01\u001b[0m0m\n",
            "\u001b[?25hRequirement already satisfied: numpy in /Users/aiswaryajanardhanan/opt/anaconda3/envs/selena/lib/python3.9/site-packages (from torchvision==0.11.1) (1.24.2)\n",
            "Collecting torch==1.10.0\n",
            "  Downloading torch-1.10.0-cp39-none-macosx_10_9_x86_64.whl (147.1 MB)\n",
            "\u001b[2K     \u001b[90m━━━━━━━━━━━━━━━━━━━━━━━━━━━━━━━━━━━━━━━\u001b[0m \u001b[32m147.1/147.1 MB\u001b[0m \u001b[31m6.0 MB/s\u001b[0m eta \u001b[36m0:00:00\u001b[0m00:01\u001b[0m00:01\u001b[0m\n",
            "\u001b[?25hRequirement already satisfied: pillow!=8.3.0,>=5.3.0 in /Users/aiswaryajanardhanan/opt/anaconda3/envs/selena/lib/python3.9/site-packages (from torchvision==0.11.1) (9.4.0)\n",
            "Requirement already satisfied: typing-extensions in /Users/aiswaryajanardhanan/opt/anaconda3/envs/selena/lib/python3.9/site-packages (from torch==1.10.0->torchvision==0.11.1) (4.5.0)\n",
            "Installing collected packages: torch, torchvision\n",
            "  Attempting uninstall: torch\n",
            "    Found existing installation: torch 1.11.0\n",
            "    Uninstalling torch-1.11.0:\n",
            "      Successfully uninstalled torch-1.11.0\n",
            "  Attempting uninstall: torchvision\n",
            "    Found existing installation: torchvision 0.12.0\n",
            "    Uninstalling torchvision-0.12.0:\n",
            "      Successfully uninstalled torchvision-0.12.0\n",
            "Successfully installed torch-1.10.0 torchvision-0.11.1\n"
          ]
        }
      ],
      "source": [
        "!pip install torchvision==0.11.1"
      ]
    },
    {
      "cell_type": "code",
      "execution_count": 1,
      "metadata": {},
      "outputs": [
        {
          "name": "stderr",
          "output_type": "stream",
          "text": [
            "/Users/aiswaryajanardhanan/opt/anaconda3/envs/FaceX-env/lib/python3.8/site-packages/tqdm/auto.py:21: TqdmWarning: IProgress not found. Please update jupyter and ipywidgets. See https://ipywidgets.readthedocs.io/en/stable/user_install.html\n",
            "  from .autonotebook import tqdm as notebook_tqdm\n",
            "/Users/aiswaryajanardhanan/opt/anaconda3/envs/FaceX-env/lib/python3.8/site-packages/torchvision/io/image.py:13: UserWarning: Failed to load image Python extension: 'dlopen(/Users/aiswaryajanardhanan/opt/anaconda3/envs/FaceX-env/lib/python3.8/site-packages/torchvision/image.so, 0x0006): Symbol not found: __ZN3c106detail19maybe_wrap_dim_slowIxEET_S2_S2_b\n",
            "  Referenced from: <870081F6-12FD-3CEA-BC5C-30F4764F2A98> /Users/aiswaryajanardhanan/opt/anaconda3/envs/FaceX-env/lib/python3.8/site-packages/torchvision/image.so\n",
            "  Expected in:     <F2FE5CF8-5B5B-3FAD-ADF8-C77D90F49FC9> /Users/aiswaryajanardhanan/opt/anaconda3/envs/FaceX-env/lib/python3.8/site-packages/torch/lib/libc10.dylib'If you don't plan on using image functionality from `torchvision.io`, you can ignore this warning. Otherwise, there might be something wrong with your environment. Did you have `libjpeg` or `libpng` installed before building `torchvision` from source?\n",
            "  warn(\n"
          ]
        }
      ],
      "source": [
        "import os\n",
        "import numpy as np\n",
        "import torch\n",
        "import torch.nn as nn\n",
        "import torch.nn.functional as F\n",
        "import math\n",
        "import shutil\n",
        "from torchvision import datasets, transforms"
      ]
    },
    {
      "cell_type": "markdown",
      "metadata": {},
      "source": [
        "### Below cell is for Colab only"
      ]
    },
    {
      "cell_type": "code",
      "execution_count": null,
      "metadata": {
        "colab": {
          "base_uri": "https://localhost:8080/"
        },
        "id": "ylZTUVRvR36q",
        "outputId": "a1fac9ee-92be-494f-e127-7a182169ba02"
      },
      "outputs": [],
      "source": [
        "# from google.colab import drive\n",
        "# drive.mount('/content/drive/')"
      ]
    },
    {
      "cell_type": "code",
      "execution_count": 2,
      "metadata": {
        "id": "1D5YytZqB1sY"
      },
      "outputs": [],
      "source": [
        "src_dir = './'"
      ]
    },
    {
      "cell_type": "code",
      "execution_count": 3,
      "metadata": {
        "id": "PRdpW1VWP1wS"
      },
      "outputs": [],
      "source": [
        "os.chdir(src_dir)"
      ]
    },
    {
      "cell_type": "code",
      "execution_count": 4,
      "metadata": {
        "colab": {
          "base_uri": "https://localhost:8080/"
        },
        "id": "YT-bfvLfB8tF",
        "outputId": "0638e6c9-b913-42d7-ad9e-aa4f98e1f793"
      },
      "outputs": [
        {
          "data": {
            "text/plain": [
              "['.DS_Store', 'EE_562_project.ipynb', 'dataload.py', '__pycache__', 'model']"
            ]
          },
          "execution_count": 4,
          "metadata": {},
          "output_type": "execute_result"
        }
      ],
      "source": [
        "os.listdir()"
      ]
    },
    {
      "cell_type": "code",
      "execution_count": 5,
      "metadata": {
        "id": "pupM9QkoPGfK"
      },
      "outputs": [],
      "source": [
        "import dataload"
      ]
    },
    {
      "cell_type": "code",
      "execution_count": 6,
      "metadata": {
        "colab": {
          "base_uri": "https://localhost:8080/"
        },
        "id": "fA69-CRSPE6N",
        "outputId": "91a08367-76d2-4664-99e4-3417a174a4c1"
      },
      "outputs": [
        {
          "name": "stdout",
          "output_type": "stream",
          "text": [
            "Loading Caltech101 Dataset\n"
          ]
        },
        {
          "name": "stderr",
          "output_type": "stream",
          "text": [
            "131740031it [00:05, 24064620.54it/s]\n"
          ]
        },
        {
          "name": "stdout",
          "output_type": "stream",
          "text": [
            "Extracting ../root/caltech101/101_ObjectCategories.tar.gz to ../root/caltech101\n"
          ]
        },
        {
          "name": "stderr",
          "output_type": "stream",
          "text": [
            "14028800it [00:00, 27247686.47it/s]\n"
          ]
        },
        {
          "name": "stdout",
          "output_type": "stream",
          "text": [
            "Extracting ../root/caltech101/Annotations.tar to ../root/caltech101\n"
          ]
        }
      ],
      "source": [
        "train_loader, test_loader  = dataload.load_dataset( 'Caltech101', cluster=1000, max_num = None)"
      ]
    },
    {
      "cell_type": "code",
      "execution_count": 8,
      "metadata": {
        "id": "o8nSCeeHgnzC"
      },
      "outputs": [],
      "source": [
        "import train "
      ]
    },
    {
      "cell_type": "code",
      "execution_count": null,
      "metadata": {
        "colab": {
          "base_uri": "https://localhost:8080/"
        },
        "id": "JUk6j3AYiNaU",
        "outputId": "c37238a7-6e78-40e1-fa4f-472cb1e11af4"
      },
      "outputs": [],
      "source": [
        "Train_Model(model, test_loader, train_loader,False,100)"
      ]
    }
  ],
  "metadata": {
    "accelerator": "GPU",
    "colab": {
      "gpuType": "T4",
      "provenance": []
    },
    "kernelspec": {
      "display_name": "Python 3",
      "name": "python3"
    },
    "language_info": {
      "codemirror_mode": {
        "name": "ipython",
        "version": 3
      },
      "file_extension": ".py",
      "mimetype": "text/x-python",
      "name": "python",
      "nbconvert_exporter": "python",
      "pygments_lexer": "ipython3",
      "version": "3.8.18"
    }
  },
  "nbformat": 4,
  "nbformat_minor": 0
}
